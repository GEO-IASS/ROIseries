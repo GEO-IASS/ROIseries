version https://git-lfs.github.com/spec/v1
oid sha256:3a5e30d0eb69c23267f8682fff0427b137f3adf20fd17dfbc66363ee6faec2a8
size 301415
