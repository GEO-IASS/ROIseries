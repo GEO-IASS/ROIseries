version https://git-lfs.github.com/spec/v1
oid sha256:fd04e83ccfa8749b0b090bc185c4a96dc8b754a079b127feac024107070e593e
size 844223
